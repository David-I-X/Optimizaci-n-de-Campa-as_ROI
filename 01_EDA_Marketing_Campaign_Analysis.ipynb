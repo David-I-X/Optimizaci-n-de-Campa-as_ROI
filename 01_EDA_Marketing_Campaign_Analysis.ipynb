{
 "cells": [
  {
   "cell_type": "code",
   "execution_count": 2,
   "metadata": {},
   "outputs": [],
   "source": [
    "import pandas as pd\n",
    "\n",
    "# Cargar el dataset\n",
    "df = pd.read_csv('marketing_campaign_dataset.csv')"
   ]
  },
  {
   "cell_type": "code",
   "execution_count": null,
   "metadata": {},
   "outputs": [],
   "source": [
    "df"
   ]
  },
  {
   "cell_type": "code",
   "execution_count": 12,
   "metadata": {},
   "outputs": [],
   "source": [
    "\"\"\"\n",
    "Celda generada por Data Wrangler.\n",
    "\"\"\"\n",
    "def clean_data(df):\n",
    "    # Eliminar columna: 'Unnamed: 0'\n",
    "    df = df.drop(columns=['Unnamed: 0'])\n",
    "    # Cambia el tipo de columna por int32 para la columna: 'Duration_in_days'\n",
    "    df = df.astype({'Duration_in_days': 'int32'})\n",
    "    return df\n",
    "\n",
    "df = clean_data(df)"
   ]
  },
  {
   "cell_type": "code",
   "execution_count": null,
   "metadata": {},
   "outputs": [],
   "source": [
    "# Verificar si hay valores faltantes\n",
    "print(df.isnull().sum())"
   ]
  },
  {
   "cell_type": "code",
   "execution_count": null,
   "metadata": {},
   "outputs": [],
   "source": [
    "# Estadísticas básicas\n",
    "print(df.describe())\n"
   ]
  },
  {
   "cell_type": "code",
   "execution_count": null,
   "metadata": {},
   "outputs": [],
   "source": [
    "import seaborn as sns\n",
    "import matplotlib.pyplot as plt\n",
    "\n",
    "# Gráfico de barras del ROI por canal\n",
    "sns.barplot(x='Channel_Used', y='ROI', data=df)\n",
    "plt.title('Distribución del ROI por Canal de Marketing')\n",
    "plt.show()\n"
   ]
  },
  {
   "cell_type": "code",
   "execution_count": null,
   "metadata": {},
   "outputs": [],
   "source": [
    "import pandas as pd\n",
    "\n",
    "# Agrupar por canal de marketing y calcular el promedio de ROI\n",
    "roi_by_channel = df.groupby('Channel_Used')['ROI'].mean().sort_values(ascending=False)\n",
    "\n",
    "# Mostrar los resultados\n",
    "print(roi_by_channel)\n",
    "\n",
    "plt.figure(figsize=(10,6))\n",
    "sns.barplot(x=roi_by_channel.index, y=roi_by_channel.values)\n",
    "plt.ylim(4.98, 5.02)  # Ajusta los límites del eje Y\n",
    "plt.title('Promedio de ROI por Canal de Marketing')\n",
    "plt.xlabel('Canal de Marketing')\n",
    "plt.ylabel('ROI Promedio')\n",
    "plt.xticks(rotation=45)\n",
    "plt.show()\n",
    "\n"
   ]
  },
  {
   "cell_type": "markdown",
   "metadata": {},
   "source": [
    "## Para este proyecto, basándonos en los datos disponibles, podemos centrarnos en los siguientes análisis:\n",
    "\n",
    "* Costo por Adquisición de Cliente (CAC).\n",
    "\n",
    "* Tasa de Conversión por Canal.\n",
    "\n",
    "* Duración de la Campaña y su impacto en el ROI.\n",
    "\n",
    "Estas métricas brindarán una comprensión integral de cómo los diferentes canales de marketing están desempeñándose en términos de costos, conversiones y eficiencia en el uso del tiempo. "
   ]
  },
  {
   "cell_type": "markdown",
   "metadata": {},
   "source": [
    "Para comenzar con los análisis de **Costo por Adquisición de Cliente (CAC)**, **Tasa de Conversión por Canal**, y **Duración de la Campaña**, vamos a seguir estos pasos:\n",
    "\n",
    "### 1. **Costo por Adquisición de Cliente (CAC)**\n",
    "\n",
    "**Objetivo**: Calcular cuánto cuesta adquirir un cliente por cada campaña.\n",
    "\n",
    "#### Pasos:\n",
    "\n",
    "1. Convertimos las columnas necesarias a valores numéricos:\n",
    "   - `Acquisition_Cost` está en formato de texto (con el símbolo de dólar), por lo que debemos remover el símbolo y convertirlo en un valor numérico.\n",
    "   - Usamos `Conversion_Rate` para calcular el número de conversiones.\n",
    "\n",
    "La fórmula del CAC es:\n",
    " CAC= (Acquisition_Cost )/(numero de conversiones)\n",
    "\n",
    " * donde el numero de converciones se puede calcular como : Conversion_Rate*total audiencia \n"
   ]
  },
  {
   "cell_type": "markdown",
   "metadata": {},
   "source": [
    "## Asignar Audiencia por Canal\n",
    "Vamos a crear una columna Audience_Size que asignará un valor aleatorio dentro del rango indicado para cada canal."
   ]
  },
  {
   "cell_type": "code",
   "execution_count": null,
   "metadata": {},
   "outputs": [],
   "source": [
    "import numpy as np\n",
    "\n",
    "# Definir las audiencias por canal\n",
    "audience_ranges = {\n",
    "    'Facebook': (1_000_000, 5_000_000),\n",
    "    'Website': (100_000, 500_000),\n",
    "    'Google Ads': (100_000, 1_000_000),\n",
    "    'Email': (15_000, 25_000),\n",
    "    'YouTube': (500_000, 5_000_000),\n",
    "    'Instagram': (500_000, 3_000_000)\n",
    "}\n",
    "\n",
    "# Crear la columna de tamaño de audiencia\n",
    "df['Audience_Size'] = df['Channel_Used'].apply(lambda x: np.random.randint(audience_ranges[x][0], audience_ranges[x][1]))\n",
    "\n",
    "# Mostrar los primeros registros\n",
    "df[['Channel_Used', 'Audience_Size']].head()\n"
   ]
  },
  {
   "cell_type": "markdown",
   "metadata": {},
   "source": [
    "*Explicación:*\n",
    "Usamos un diccionario *audience_ranges* para almacenar los rangos de audiencia para cada canal.\n",
    "\n",
    "La función apply con un lambda recorre la *columna Channel_Used* y asigna un número aleatorio en el rango correspondiente al canal utilizando *np.random.randint*."
   ]
  },
  {
   "cell_type": "code",
   "execution_count": null,
   "metadata": {},
   "outputs": [],
   "source": [
    "#3. Implementación:\n",
    "\n",
    "\n",
    "# Limpiar columna Acquisition_Cost\n",
    "df['Acquisition_Cost'] = df['Acquisition_Cost'].replace('[\\$,]', '', regex=True).astype(float)\n",
    "\n",
    "\n",
    "# Calcular el número de conversiones\n",
    "df['Numero_Conversiones'] = df['Conversion_Rate'] * df['Audience_Size']\n",
    "\n",
    "# Calcular el CAC\n",
    "df['CAC'] = df['Acquisition_Cost'] / df['Numero_Conversiones']\n",
    "\n",
    "# Verificar los resultados\n",
    "df[['Channel_Used', 'Audience_Size', 'Conversion_Rate', 'Numero_Conversiones', 'Acquisition_Cost', 'CAC']].head()\n"
   ]
  },
  {
   "cell_type": "code",
   "execution_count": null,
   "metadata": {},
   "outputs": [],
   "source": [
    "#4. Podemos visualizar el CAC por canal con un gráfico de barras:\n",
    "\n",
    "\n",
    "import matplotlib.pyplot as plt\n",
    "\n",
    "# Agrupar por canal\n",
    "cac_por_canal = df.groupby('Channel_Used')['CAC'].mean()\n",
    "\n",
    "# Crear gráfico de barras\n",
    "cac_por_canal.plot(kind='bar', title='Costo por Adquisición de Cliente por Canal')\n",
    "plt.ylabel('Costo por Adquisición (USD)')\n",
    "plt.show()\n"
   ]
  },
  {
   "cell_type": "markdown",
   "metadata": {},
   "source": [
    "### 2. **Tasa de Conversión por Canal**\n",
    "\n",
    "**Objetivo**: Analizar cuál canal de marketing tiene la mejor tasa de conversión.\n",
    "\n",
    "#### Pasos:\n",
    "\n",
    "1. La tasa de conversión está directamente disponible en la columna `Conversion_Rate`."
   ]
  },
  {
   "cell_type": "code",
   "execution_count": null,
   "metadata": {},
   "outputs": [],
   "source": [
    "#2. Visualización de la tasa de conversión promedio por canal:\n",
    "\n",
    "\n",
    "# Agrupar por canal\n",
    "conversion_por_canal = df.groupby('Channel_Used')['Conversion_Rate'].mean()\n",
    "\n",
    "# Crear gráfico de barras\n",
    "conversion_por_canal.plot(kind='bar', title='Tasa de Conversión por Canal')\n",
    "plt.ylabel('Tasa de Conversión (%)')\n",
    "\n",
    "# Ajustar el eje Y para hacer zoom en las diferencias\n",
    "plt.ylim(0.075, 0.085)\n",
    "\n",
    "plt.show()\n"
   ]
  },
  {
   "cell_type": "markdown",
   "metadata": {},
   "source": [
    "### 3. **Duración de la Campaña y su Impacto en el ROI**\n",
    "\n",
    "**Objetivo**: Analizar si la duración de las campañas afecta el ROI.\n",
    "\n",
    "#### Pasos:\n",
    "1. Convertir `Duration` a un valor numérico. Por ejemplo, si está en formato \"30 days\", debemos extraer los días como un número.\n",
    "\n",
    "\n",
    "\n"
   ]
  },
  {
   "cell_type": "code",
   "execution_count": 3,
   "metadata": {},
   "outputs": [],
   "source": [
    "# Cambiar el nombre de la columna\n",
    "df.rename(columns={'Duration': 'Duration_in_days'}, inplace=True)\n",
    "\n",
    "# Eliminar la palabra 'days' de cada valor de la columna\n",
    "df['Duration_in_days'] = df['Duration_in_days'].str.replace(' days', '', regex=False)\n"
   ]
  },
  {
   "cell_type": "code",
   "execution_count": 19,
   "metadata": {},
   "outputs": [
    {
     "data": {
      "image/png": "[encoded data removed]",
      "text/plain": [
       "<Figure size 1000x600 with 1 Axes>"
      ]
     },
     "metadata": {},
     "output_type": "display_data"
    },
    {
     "name": "stdout",
     "output_type": "stream",
     "text": [
      "Correlación entre la duración de la campaña y el ROI: 0.00\n"
     ]
    }
   ],
   "source": [
    "import matplotlib.pyplot as plt\n",
    "import seaborn as sns\n",
    "import numpy as np\n",
    "\n",
    "# Gráfico de dispersión de Duración vs ROI\n",
    "plt.figure(figsize=(10,6))\n",
    "sns.scatterplot(x=df['Duration_in_days'], y=df['ROI'])\n",
    "plt.title('Relación entre Duración de Campaña y ROI')\n",
    "plt.xlabel('Duración de la Campaña (días)')\n",
    "plt.ylabel('ROI')\n",
    "plt.show()\n",
    "\n",
    "# Calcular la correlación\n",
    "correlation = np.corrcoef(df['Duration_in_days'], df['ROI'])[0, 1]\n",
    "print(f'Correlación entre la duración de la campaña y el ROI: {correlation:.2f}')\n",
    "\n",
    "\n"
   ]
  },
  {
   "cell_type": "markdown",
   "metadata": {},
   "source": [
    "### Próximos pasos:\n",
    "- Ejecuta este análisis paso a paso y observa los resultados. Podemos ajustar los tamaños de audiencia o la limpieza de los datos según sea necesario.\n",
    "- Una vez que obtengamos estos resultados, podemos combinar estos análisis en un informe o agregar más visualizaciones para hacer las conclusiones más claras."
   ]
  },
  {
   "cell_type": "code",
   "execution_count": 15,
   "metadata": {},
   "outputs": [],
   "source": [
    "df.to_csv('marketing_campaign_dataset.csv', index=False)"
   ]
  },
  {
   "cell_type": "code",
   "execution_count": null,
   "metadata": {},
   "outputs": [],
   "source": [
    "df['ROI']"
   ]
  }
 ],
 "metadata": {
  "kernelspec": {
   "display_name": "op_ROI",
   "language": "python",
   "name": "python3"
  },
  "language_info": {
   "codemirror_mode": {
    "name": "ipython",
    "version": 3
   },
   "file_extension": ".py",
   "mimetype": "text/x-python",
   "name": "python",
   "nbconvert_exporter": "python",
   "pygments_lexer": "ipython3",
   "version": "3.11.5"
  }
 },
 "nbformat": 4,
 "nbformat_minor": 2
}
