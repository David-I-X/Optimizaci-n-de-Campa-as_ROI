{
 "cells": [
  {
   "cell_type": "code",
   "execution_count": 1,
   "metadata": {},
   "outputs": [
    {
     "name": "stdout",
     "output_type": "stream",
     "text": [
      "   Campaign_ID              Company Campaign_Type Target_Audience Duration  \\\n",
      "0            1  Innovate Industries         Email       Men 18-24  30 days   \n",
      "1            2       NexGen Systems         Email     Women 35-44  60 days   \n",
      "2            3    Alpha Innovations    Influencer       Men 25-34  30 days   \n",
      "3            4   DataTech Solutions       Display        All Ages  60 days   \n",
      "4            5       NexGen Systems         Email       Men 25-34  15 days   \n",
      "\n",
      "  Channel_Used  Conversion_Rate Acquisition_Cost   ROI     Location  Language  \\\n",
      "0   Google Ads             0.04       $16,174.00  6.29      Chicago   Spanish   \n",
      "1   Google Ads             0.12       $11,566.00  5.61     New York    German   \n",
      "2      YouTube             0.07       $10,200.00  7.18  Los Angeles    French   \n",
      "3      YouTube             0.11       $12,724.00  5.55        Miami  Mandarin   \n",
      "4      YouTube             0.05       $16,452.00  6.50  Los Angeles  Mandarin   \n",
      "\n",
      "   Clicks  Impressions  Engagement_Score     Customer_Segment        Date  \n",
      "0     506         1922                 6    Health & Wellness  2021-01-01  \n",
      "1     116         7523                 7         Fashionistas  2021-01-02  \n",
      "2     584         7698                 1  Outdoor Adventurers  2021-01-03  \n",
      "3     217         1820                 7    Health & Wellness  2021-01-04  \n",
      "4     379         4201                 3    Health & Wellness  2021-01-05  \n"
     ]
    }
   ],
   "source": [
    "import pandas as pd\n",
    "\n",
    "# Cargar el dataset\n",
    "df = pd.read_csv('marketing_campaign_dataset.csv')\n",
    "\n",
    "# Mostrar las primeras filas\n",
    "print(df.head())\n"
   ]
  }
 ],
 "metadata": {
  "kernelspec": {
   "display_name": "op_ROI",
   "language": "python",
   "name": "python3"
  },
  "language_info": {
   "codemirror_mode": {
    "name": "ipython",
    "version": 3
   },
   "file_extension": ".py",
   "mimetype": "text/x-python",
   "name": "python",
   "nbconvert_exporter": "python",
   "pygments_lexer": "ipython3",
   "version": "3.11.5"
  }
 },
 "nbformat": 4,
 "nbformat_minor": 2
}
